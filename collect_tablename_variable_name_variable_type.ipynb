{
 "cells": [
  {
   "cell_type": "code",
   "execution_count": 1,
   "metadata": {},
   "outputs": [],
   "source": [
    "import sqlite3\n",
    "import pandas as pd"
   ]
  },
  {
   "cell_type": "code",
   "execution_count": 2,
   "metadata": {},
   "outputs": [],
   "source": [
    "connection = sqlite3.connect('movie_database.db')"
   ]
  },
  {
   "cell_type": "code",
   "execution_count": 3,
   "metadata": {},
   "outputs": [],
   "source": [
    "cursor = connection.cursor()"
   ]
  },
  {
   "cell_type": "code",
   "execution_count": 6,
   "metadata": {},
   "outputs": [
    {
     "ename": "OperationalError",
     "evalue": "no such table: INFORMATION_SCHEMA.TABLE_movies",
     "output_type": "error",
     "traceback": [
      "\u001b[1;31m---------------------------------------------------------------------------\u001b[0m",
      "\u001b[1;31mOperationalError\u001b[0m                          Traceback (most recent call last)",
      "Cell \u001b[1;32mIn[6], line 1\u001b[0m\n\u001b[1;32m----> 1\u001b[0m cursor\u001b[39m.\u001b[39;49mexecute(\u001b[39m'''\u001b[39;49m\u001b[39mselect * from INFORMATION_SCHEMA.TABLE_movies\u001b[39;49m\u001b[39m'''\u001b[39;49m)\u001b[39m.\u001b[39mfetchall()   \n",
      "\u001b[1;31mOperationalError\u001b[0m: no such table: INFORMATION_SCHEMA.TABLE_movies"
     ]
    }
   ],
   "source": [
    "cursor.execute('''select * from INFORMATION_SCHEMA.TABLE_movies''').fetchall()   "
   ]
  },
  {
   "cell_type": "code",
   "execution_count": 21,
   "metadata": {},
   "outputs": [
    {
     "name": "stdout",
     "output_type": "stream",
     "text": [
      "        Table Variable Names Variables Types Null Values\n",
      "0   directors             id         INTEGER          No\n",
      "1   directors           name            TEXT          No\n",
      "2      genres             id         INTEGER          No\n",
      "3      genres           name            TEXT          No\n",
      "4      movies             id         INTEGER          No\n",
      "5      movies          title            TEXT          No\n",
      "6      movies           year         INTEGER          No\n",
      "7      movies         rating            REAL          No\n",
      "8      movies       genre_id         INTEGER          No\n",
      "9      movies    director_id         INTEGER          No\n",
      "10     actors             id         INTEGER          No\n",
      "11     actors           name            TEXT          No\n",
      "12      roles             id         INTEGER          No\n",
      "13      roles       movie_id         INTEGER          No\n",
      "14      roles       actor_id         INTEGER          No\n"
     ]
    }
   ],
   "source": [
    "# Crie um dicionario de dados\n",
    "dados = {}\n",
    "\n",
    "names =[]\n",
    "var_names = []\n",
    "var_type = []\n",
    "check_null =[]\n",
    "cursor.execute('SELECT name FROM sqlite_master WHERE TYPE = \"table\"')\n",
    "name = cursor.fetchall()\n",
    "for n in name:\n",
    "    nome = n[0]\n",
    "    cursor.execute(f\"PRAGMA table_info({n[0]})\")\n",
    "    for row in cursor.fetchall():\n",
    "        names.append(n[0])\n",
    "        var_names.append(row[1])\n",
    "        var_type.append(row[2])\n",
    "        #SELECT COUNT(*) FROM your_table WHERE your_column IS NULL;\n",
    "        cursor.execute(f'SELECT COUNT(*) FROM {n[0]} WHERE {row[1]} IS NULL;')\n",
    "        check = cursor.fetchall() # returns list of tuples ex.(0,)\n",
    "        if check[0][0] >0:\n",
    "            check_null.append(\"Yes\")\n",
    "        else:\n",
    "            check_null.append(\"No\")\n",
    "\n",
    "dados = {\"Table\" : names, \"Variable Names\": var_names , \"Variables Types\" : var_type, \"Null Values\": check_null}       \n",
    "\n",
    "df = pd.DataFrame(dados)\n",
    " \n",
    "print(df)\n",
    "\n"
   ]
  },
  {
   "cell_type": "markdown",
   "metadata": {},
   "source": []
  },
  {
   "cell_type": "code",
   "execution_count": null,
   "metadata": {},
   "outputs": [],
   "source": []
  }
 ],
 "metadata": {
  "kernelspec": {
   "display_name": "Python 3",
   "language": "python",
   "name": "python3"
  },
  "language_info": {
   "codemirror_mode": {
    "name": "ipython",
    "version": 3
   },
   "file_extension": ".py",
   "mimetype": "text/x-python",
   "name": "python",
   "nbconvert_exporter": "python",
   "pygments_lexer": "ipython3",
   "version": "3.10.11"
  },
  "orig_nbformat": 4
 },
 "nbformat": 4,
 "nbformat_minor": 2
}
