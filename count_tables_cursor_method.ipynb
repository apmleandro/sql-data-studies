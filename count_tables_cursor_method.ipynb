{
 "cells": [
  {
   "cell_type": "code",
   "execution_count": 1,
   "metadata": {},
   "outputs": [],
   "source": [
    "import requests\n",
    "import sqlite3\n",
    "import pandas as pd\n",
    "\n",
    "connection = sqlite3.connect('movie_database.db')\n",
    "#The returned Connection object con represents the connection to the on-disk database.\n",
    "# In order to execute SQL statements and fetch results from SQL queries, \n",
    "# we will need to use a database cursor. Call con.cursor() to create the Cursor:\n",
    "#The sqlite3 is the python database client for SQLite database.\n",
    "\n",
    "# A database connection to an SQLite database can be created by calling the \n",
    "# connect() method of the sqlite3 module.\n",
    "# Through the connection object a sqlite3.Cursor object can be obtained.\n",
    "# A SQL statement like a SELECT statement can be executed on the SQLite server \n",
    "# by calling the execute() method of the cursor object and passing \n",
    "# the SQL statement as parameter.\n",
    "# The Python example below queries the sqlite_master table and prints the \n",
    "# list of tables and indices present in the SQLite main database loaded through the file info.dbs.\n"
   ]
  },
  {
   "cell_type": "code",
   "execution_count": null,
   "metadata": {},
   "outputs": [],
   "source": [
    "# Overview:\n",
    "# Every SQLite database has a special table named sqlite_master, which is a system created table.\n",
    "# The sqlite_master table of a database contains the list of tables, indices and other details \n",
    "# specific to that database.\n",
    "# The type column of the sqlite_master table denotes what type of database object the record is about.\n",
    "#  The type column will hold the value \"table\" for a database table and the value \"index\" for a database \n",
    "# index.\n",
    "# The sql column of the sqlite_master table contains the SQL statement with which a table or index has \n",
    "# been created."
   ]
  },
  {
   "cell_type": "code",
   "execution_count": 2,
   "metadata": {},
   "outputs": [],
   "source": [
    "cursor = connection.cursor()"
   ]
  },
  {
   "cell_type": "code",
   "execution_count": 18,
   "metadata": {},
   "outputs": [],
   "source": [
    "def consulta(query):\n",
    "    data = pd.read_sql(query, connection)"
   ]
  },
  {
   "cell_type": "code",
   "execution_count": 3,
   "metadata": {},
   "outputs": [
    {
     "data": {
      "text/plain": [
       "<sqlite3.Cursor at 0x154ff9a1f40>"
      ]
     },
     "execution_count": 3,
     "metadata": {},
     "output_type": "execute_result"
    }
   ],
   "source": [
    "cursor.execute(\"SELECT count(*) FROM sqlite_master WHERE type='table';\")"
   ]
  },
  {
   "cell_type": "code",
   "execution_count": 41,
   "metadata": {},
   "outputs": [
    {
     "name": "stdout",
     "output_type": "stream",
     "text": [
      "Total tables in the database: (5,)\n"
     ]
    }
   ],
   "source": [
    "#The fetchone() method is a method of the cursor object in the sqlite3 library in Python.\n",
    "#  It is used to fetch the next row of a query result set, and returns it as a tuple.\n",
    "# When you execute a SELECT statement using the execute() method of a cursor object,\n",
    "#  you can use fetchone() to retrieve the first row of the result set. \n",
    "# If there are more rows, you can call fetchone() again to retrieve the next row, and so on.\n",
    "\n",
    "cursor.execute(\"SELECT count(*) FROM sqlite_master WHERE type='table';\")\n",
    "count = cursor.fetchone()\n",
    "print(f'Total tables in the database: {count}')"
   ]
  },
  {
   "cell_type": "code",
   "execution_count": null,
   "metadata": {},
   "outputs": [],
   "source": []
  },
  {
   "cell_type": "code",
   "execution_count": 44,
   "metadata": {},
   "outputs": [
    {
     "name": "stdout",
     "output_type": "stream",
     "text": [
      "Total tables in the database: 5\n"
     ]
    }
   ],
   "source": [
    "#The fetchone() method is a method of the cursor object in the sqlite3 library in Python.\n",
    "#  It is used to fetch the next row of a query result set, and returns it as a tuple.\n",
    "# When you execute a SELECT statement using the execute() method of a cursor object,\n",
    "#  you can use fetchone() to retrieve the first row of the result set. \n",
    "# If there are more rows, you can call fetchone() again to retrieve the next row, and so on.\n",
    "\n",
    "count = cursor.fetchone()[0]\n",
    "print(f'Total tables in the database: {count}')"
   ]
  },
  {
   "cell_type": "code",
   "execution_count": null,
   "metadata": {},
   "outputs": [],
   "source": []
  }
 ],
 "metadata": {
  "kernelspec": {
   "display_name": "Python 3",
   "language": "python",
   "name": "python3"
  },
  "language_info": {
   "codemirror_mode": {
    "name": "ipython",
    "version": 3
   },
   "file_extension": ".py",
   "mimetype": "text/x-python",
   "name": "python",
   "nbconvert_exporter": "python",
   "pygments_lexer": "ipython3",
   "version": "3.10.10"
  },
  "orig_nbformat": 4
 },
 "nbformat": 4,
 "nbformat_minor": 2
}
