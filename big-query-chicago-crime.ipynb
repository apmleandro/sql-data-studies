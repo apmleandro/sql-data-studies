{
 "cells": [
  {
   "cell_type": "code",
   "execution_count": 1,
   "metadata": {},
   "outputs": [],
   "source": [
    "import requests\n",
    "import pandas as pd\n",
    "import sys\n",
    "from pandas.io.json import json_normalize\n",
    "from datetime import datetime\n",
    "import gc\n",
    "from google.oauth2 import credentials\n",
    "from google_auth_oauthlib.flow import InstalledAppFlow\n",
    "from google.cloud import bigquery"
   ]
  },
  {
   "cell_type": "code",
   "execution_count": 2,
   "metadata": {},
   "outputs": [
    {
     "name": "stdout",
     "output_type": "stream",
     "text": [
      "Please visit this URL to authorize this application: https://accounts.google.com/o/oauth2/auth?response_type=code&client_id=853561264369-cg46opisk56diiv2ee4nblkb6jmtland.apps.googleusercontent.com&redirect_uri=http%3A%2F%2Flocalhost%3A59019%2F&scope=https%3A%2F%2Fwww.googleapis.com%2Fauth%2Fbigquery&state=RVUZyeQykS7je0O1g47925dGK4XqXV&access_type=offline\n"
     ]
    }
   ],
   "source": [
    "# Set the scopes for the desired permissions\n",
    "SCOPES = ['https://www.googleapis.com/auth/bigquery']\n",
    "\n",
    "# Create the flow for authorization\n",
    "flow = InstalledAppFlow.from_client_secrets_file(\n",
    "    '...', scopes=SCOPES\n",
    ")\n",
    "credentials = flow.run_local_server(port=0)\n",
    "\n",
    "project_id = '...'\n",
    "\n",
    "# Use the obtained credentials for authentication\n",
    "client = bigquery.Client(credentials=credentials, project=project_id) #"
   ]
  },
  {
   "cell_type": "code",
   "execution_count": 3,
   "metadata": {},
   "outputs": [
    {
     "data": {
      "text/plain": [
       "<google.cloud.bigquery.client.Client at 0x14b7a50cd60>"
      ]
     },
     "execution_count": 3,
     "metadata": {},
     "output_type": "execute_result"
    }
   ],
   "source": [
    "client"
   ]
  },
  {
   "cell_type": "code",
   "execution_count": 3,
   "metadata": {},
   "outputs": [],
   "source": [
    "# Construct a reference to the \"hacker_news\" dataset\n",
    "dataset_ref = client.dataset(\"chicago_crime\", project=\"bigquery-public-data\")\n",
    "\n",
    "# API request - fetch the dataset\n",
    "dataset = client.get_dataset(dataset_ref)"
   ]
  },
  {
   "cell_type": "code",
   "execution_count": 5,
   "metadata": {},
   "outputs": [
    {
     "name": "stdout",
     "output_type": "stream",
     "text": [
      "crime\n"
     ]
    }
   ],
   "source": [
    "# List all the tables in the \"hacker_news\" dataset\n",
    "tables = list(client.list_tables(dataset))\n",
    "\n",
    "# Print names of all tables in the dataset (there are four!)\n",
    "for table in tables:  \n",
    "    print(table.table_id)"
   ]
  },
  {
   "cell_type": "code",
   "execution_count": 6,
   "metadata": {},
   "outputs": [],
   "source": [
    "# Construct a reference to the \"full\" table\n",
    "table_ref = dataset_ref.table(\"crime\")\n",
    "\n",
    "# API request - fetch the table\n",
    "table = client.get_table(table_ref)"
   ]
  },
  {
   "cell_type": "code",
   "execution_count": 7,
   "metadata": {},
   "outputs": [
    {
     "data": {
      "text/plain": [
       "[SchemaField('unique_key', 'INTEGER', 'REQUIRED', None, None, (), None),\n",
       " SchemaField('case_number', 'STRING', 'NULLABLE', None, None, (), None),\n",
       " SchemaField('date', 'TIMESTAMP', 'NULLABLE', None, None, (), None),\n",
       " SchemaField('block', 'STRING', 'NULLABLE', None, None, (), None),\n",
       " SchemaField('iucr', 'STRING', 'NULLABLE', None, None, (), None),\n",
       " SchemaField('primary_type', 'STRING', 'NULLABLE', None, None, (), None),\n",
       " SchemaField('description', 'STRING', 'NULLABLE', None, None, (), None),\n",
       " SchemaField('location_description', 'STRING', 'NULLABLE', None, None, (), None),\n",
       " SchemaField('arrest', 'BOOLEAN', 'NULLABLE', None, None, (), None),\n",
       " SchemaField('domestic', 'BOOLEAN', 'NULLABLE', None, None, (), None),\n",
       " SchemaField('beat', 'INTEGER', 'NULLABLE', None, None, (), None),\n",
       " SchemaField('district', 'INTEGER', 'NULLABLE', None, None, (), None),\n",
       " SchemaField('ward', 'INTEGER', 'NULLABLE', None, None, (), None),\n",
       " SchemaField('community_area', 'INTEGER', 'NULLABLE', None, None, (), None),\n",
       " SchemaField('fbi_code', 'STRING', 'NULLABLE', None, None, (), None),\n",
       " SchemaField('x_coordinate', 'FLOAT', 'NULLABLE', None, None, (), None),\n",
       " SchemaField('y_coordinate', 'FLOAT', 'NULLABLE', None, None, (), None),\n",
       " SchemaField('year', 'INTEGER', 'NULLABLE', None, None, (), None),\n",
       " SchemaField('updated_on', 'TIMESTAMP', 'NULLABLE', None, None, (), None),\n",
       " SchemaField('latitude', 'FLOAT', 'NULLABLE', None, None, (), None),\n",
       " SchemaField('longitude', 'FLOAT', 'NULLABLE', None, None, (), None),\n",
       " SchemaField('location', 'STRING', 'NULLABLE', None, None, (), None)]"
      ]
     },
     "execution_count": 7,
     "metadata": {},
     "output_type": "execute_result"
    }
   ],
   "source": [
    "# Print information on all the columns in the \"crime\" table in the \"chicago_crime\" dataset\n",
    "table.schema"
   ]
  },
  {
   "attachments": {},
   "cell_type": "markdown",
   "metadata": {},
   "source": [
    "### In the context of BigQuery, field.field_type is used to access the data type of a column in the table schema.\n",
    "\n",
    "When you retrieve the schema of a BigQuery table using table.schema, it returns a list of SchemaField objects. Each SchemaField object represents a column in the table and contains information about that column, such as its name, data type, mode (nullable or required), and more.\n",
    "\n",
    "To access the data type of a column, you can use the field_type attribute of the SchemaField object. For example, field.field_type will give you the data type of a column represented by the field object."
   ]
  },
  {
   "cell_type": "code",
   "execution_count": 8,
   "metadata": {},
   "outputs": [
    {
     "name": "stdout",
     "output_type": "stream",
     "text": [
      "Number of TIMESTAMP columns: 2\n"
     ]
    }
   ],
   "source": [
    "# Count the number of TIMESTAMP columns\n",
    "timestamp_columns = sum(field.field_type == 'TIMESTAMP' for field in table.schema)\n",
    "\n",
    "# Print the count\n",
    "print(f\"Number of TIMESTAMP columns: {timestamp_columns}\")"
   ]
  },
  {
   "attachments": {},
   "cell_type": "markdown",
   "metadata": {},
   "source": [
    "### Exploring the data\n",
    "\n"
   ]
  },
  {
   "cell_type": "code",
   "execution_count": 12,
   "metadata": {},
   "outputs": [
    {
     "data": {
      "text/html": [
       "<div>\n",
       "<style scoped>\n",
       "    .dataframe tbody tr th:only-of-type {\n",
       "        vertical-align: middle;\n",
       "    }\n",
       "\n",
       "    .dataframe tbody tr th {\n",
       "        vertical-align: top;\n",
       "    }\n",
       "\n",
       "    .dataframe thead th {\n",
       "        text-align: right;\n",
       "    }\n",
       "</style>\n",
       "<table border=\"1\" class=\"dataframe\">\n",
       "  <thead>\n",
       "    <tr style=\"text-align: right;\">\n",
       "      <th></th>\n",
       "      <th>unique_key</th>\n",
       "      <th>case_number</th>\n",
       "      <th>date</th>\n",
       "      <th>block</th>\n",
       "      <th>iucr</th>\n",
       "      <th>primary_type</th>\n",
       "      <th>description</th>\n",
       "      <th>location_description</th>\n",
       "      <th>arrest</th>\n",
       "      <th>domestic</th>\n",
       "      <th>...</th>\n",
       "      <th>ward</th>\n",
       "      <th>community_area</th>\n",
       "      <th>fbi_code</th>\n",
       "      <th>x_coordinate</th>\n",
       "      <th>y_coordinate</th>\n",
       "      <th>year</th>\n",
       "      <th>updated_on</th>\n",
       "      <th>latitude</th>\n",
       "      <th>longitude</th>\n",
       "      <th>location</th>\n",
       "    </tr>\n",
       "  </thead>\n",
       "  <tbody>\n",
       "    <tr>\n",
       "      <th>0</th>\n",
       "      <td>23995</td>\n",
       "      <td>JB303350</td>\n",
       "      <td>2018-06-12 08:41:00+00:00</td>\n",
       "      <td>000XX W 104TH PL</td>\n",
       "      <td>0110</td>\n",
       "      <td>HOMICIDE</td>\n",
       "      <td>FIRST DEGREE MURDER</td>\n",
       "      <td>GARAGE</td>\n",
       "      <td>True</td>\n",
       "      <td>False</td>\n",
       "      <td>...</td>\n",
       "      <td>34</td>\n",
       "      <td>49</td>\n",
       "      <td>01A</td>\n",
       "      <td>1177863.0</td>\n",
       "      <td>1835679.0</td>\n",
       "      <td>2018</td>\n",
       "      <td>2023-03-28 05:00:19+00:00</td>\n",
       "      <td>41.704419</td>\n",
       "      <td>-87.624304</td>\n",
       "      <td>(41.704419193, -87.624304349)</td>\n",
       "    </tr>\n",
       "    <tr>\n",
       "      <th>1</th>\n",
       "      <td>3724</td>\n",
       "      <td>HM509037</td>\n",
       "      <td>2006-07-30 02:52:00+00:00</td>\n",
       "      <td>104XX S STATE ST</td>\n",
       "      <td>0110</td>\n",
       "      <td>HOMICIDE</td>\n",
       "      <td>FIRST DEGREE MURDER</td>\n",
       "      <td>AUTO</td>\n",
       "      <td>False</td>\n",
       "      <td>False</td>\n",
       "      <td>...</td>\n",
       "      <td>9</td>\n",
       "      <td>49</td>\n",
       "      <td>01A</td>\n",
       "      <td>1178106.0</td>\n",
       "      <td>1835436.0</td>\n",
       "      <td>2006</td>\n",
       "      <td>2022-08-31 04:51:30+00:00</td>\n",
       "      <td>41.703747</td>\n",
       "      <td>-87.623422</td>\n",
       "      <td>(41.703746874, -87.623421862)</td>\n",
       "    </tr>\n",
       "    <tr>\n",
       "      <th>2</th>\n",
       "      <td>26345</td>\n",
       "      <td>JE395709</td>\n",
       "      <td>2021-10-02 06:44:00+00:00</td>\n",
       "      <td>001XX E 107TH ST</td>\n",
       "      <td>0110</td>\n",
       "      <td>HOMICIDE</td>\n",
       "      <td>FIRST DEGREE MURDER</td>\n",
       "      <td>HOUSE</td>\n",
       "      <td>False</td>\n",
       "      <td>False</td>\n",
       "      <td>...</td>\n",
       "      <td>9</td>\n",
       "      <td>49</td>\n",
       "      <td>01A</td>\n",
       "      <td>1178985.0</td>\n",
       "      <td>1834047.0</td>\n",
       "      <td>2021</td>\n",
       "      <td>2022-09-18 04:45:51+00:00</td>\n",
       "      <td>41.699915</td>\n",
       "      <td>-87.620245</td>\n",
       "      <td>(41.699915337, -87.620245268)</td>\n",
       "    </tr>\n",
       "    <tr>\n",
       "      <th>3</th>\n",
       "      <td>22962</td>\n",
       "      <td>HZ519714</td>\n",
       "      <td>2016-11-17 10:46:00+00:00</td>\n",
       "      <td>004XX E 107TH ST</td>\n",
       "      <td>0110</td>\n",
       "      <td>HOMICIDE</td>\n",
       "      <td>FIRST DEGREE MURDER</td>\n",
       "      <td>HOUSE</td>\n",
       "      <td>False</td>\n",
       "      <td>False</td>\n",
       "      <td>...</td>\n",
       "      <td>9</td>\n",
       "      <td>49</td>\n",
       "      <td>01A</td>\n",
       "      <td>1181006.0</td>\n",
       "      <td>1834102.0</td>\n",
       "      <td>2016</td>\n",
       "      <td>2022-09-18 04:45:51+00:00</td>\n",
       "      <td>41.700020</td>\n",
       "      <td>-87.612844</td>\n",
       "      <td>(41.700020108, -87.612843569)</td>\n",
       "    </tr>\n",
       "    <tr>\n",
       "      <th>4</th>\n",
       "      <td>1933</td>\n",
       "      <td>HH849690</td>\n",
       "      <td>2002-12-20 06:00:00+00:00</td>\n",
       "      <td>007XX E 104TH ST</td>\n",
       "      <td>0110</td>\n",
       "      <td>HOMICIDE</td>\n",
       "      <td>FIRST DEGREE MURDER</td>\n",
       "      <td>ALLEY</td>\n",
       "      <td>False</td>\n",
       "      <td>False</td>\n",
       "      <td>...</td>\n",
       "      <td>9</td>\n",
       "      <td>50</td>\n",
       "      <td>01A</td>\n",
       "      <td>1182896.0</td>\n",
       "      <td>1836154.0</td>\n",
       "      <td>2002</td>\n",
       "      <td>2022-09-18 04:45:51+00:00</td>\n",
       "      <td>41.705607</td>\n",
       "      <td>-87.605860</td>\n",
       "      <td>(41.705607465, -87.60585975)</td>\n",
       "    </tr>\n",
       "  </tbody>\n",
       "</table>\n",
       "<p>5 rows × 22 columns</p>\n",
       "</div>"
      ],
      "text/plain": [
       "   unique_key case_number                      date             block  iucr  \\\n",
       "0       23995    JB303350 2018-06-12 08:41:00+00:00  000XX W 104TH PL  0110   \n",
       "1        3724    HM509037 2006-07-30 02:52:00+00:00  104XX S STATE ST  0110   \n",
       "2       26345    JE395709 2021-10-02 06:44:00+00:00  001XX E 107TH ST  0110   \n",
       "3       22962    HZ519714 2016-11-17 10:46:00+00:00  004XX E 107TH ST  0110   \n",
       "4        1933    HH849690 2002-12-20 06:00:00+00:00  007XX E 104TH ST  0110   \n",
       "\n",
       "  primary_type          description location_description  arrest  domestic  \\\n",
       "0     HOMICIDE  FIRST DEGREE MURDER               GARAGE    True     False   \n",
       "1     HOMICIDE  FIRST DEGREE MURDER                 AUTO   False     False   \n",
       "2     HOMICIDE  FIRST DEGREE MURDER                HOUSE   False     False   \n",
       "3     HOMICIDE  FIRST DEGREE MURDER                HOUSE   False     False   \n",
       "4     HOMICIDE  FIRST DEGREE MURDER                ALLEY   False     False   \n",
       "\n",
       "   ...  ward  community_area  fbi_code  x_coordinate y_coordinate  year  \\\n",
       "0  ...    34              49       01A     1177863.0    1835679.0  2018   \n",
       "1  ...     9              49       01A     1178106.0    1835436.0  2006   \n",
       "2  ...     9              49       01A     1178985.0    1834047.0  2021   \n",
       "3  ...     9              49       01A     1181006.0    1834102.0  2016   \n",
       "4  ...     9              50       01A     1182896.0    1836154.0  2002   \n",
       "\n",
       "                 updated_on   latitude  longitude  \\\n",
       "0 2023-03-28 05:00:19+00:00  41.704419 -87.624304   \n",
       "1 2022-08-31 04:51:30+00:00  41.703747 -87.623422   \n",
       "2 2022-09-18 04:45:51+00:00  41.699915 -87.620245   \n",
       "3 2022-09-18 04:45:51+00:00  41.700020 -87.612844   \n",
       "4 2022-09-18 04:45:51+00:00  41.705607 -87.605860   \n",
       "\n",
       "                        location  \n",
       "0  (41.704419193, -87.624304349)  \n",
       "1  (41.703746874, -87.623421862)  \n",
       "2  (41.699915337, -87.620245268)  \n",
       "3  (41.700020108, -87.612843569)  \n",
       "4   (41.705607465, -87.60585975)  \n",
       "\n",
       "[5 rows x 22 columns]"
      ]
     },
     "execution_count": 12,
     "metadata": {},
     "output_type": "execute_result"
    }
   ],
   "source": [
    "# Preview the first five lines of the \"crime\" table\n",
    "client.list_rows(table,max_results=5).to_dataframe()"
   ]
  },
  {
   "cell_type": "code",
   "execution_count": null,
   "metadata": {},
   "outputs": [],
   "source": [
    "!pip install google-cloud-bigquery"
   ]
  },
  {
   "cell_type": "code",
   "execution_count": 13,
   "metadata": {},
   "outputs": [],
   "source": [
    "fields_for_plotting = ['x_coordinate','y_coordinate']"
   ]
  },
  {
   "cell_type": "code",
   "execution_count": 14,
   "metadata": {},
   "outputs": [],
   "source": [
    "data = client.list_rows(table,max_results=5).to_dataframe()"
   ]
  },
  {
   "cell_type": "code",
   "execution_count": 15,
   "metadata": {},
   "outputs": [
    {
     "name": "stdout",
     "output_type": "stream",
     "text": [
      "<class 'pandas.core.frame.DataFrame'>\n",
      "RangeIndex: 5 entries, 0 to 4\n",
      "Data columns (total 22 columns):\n",
      " #   Column                Non-Null Count  Dtype              \n",
      "---  ------                --------------  -----              \n",
      " 0   unique_key            5 non-null      Int64              \n",
      " 1   case_number           5 non-null      object             \n",
      " 2   date                  5 non-null      datetime64[ns, UTC]\n",
      " 3   block                 5 non-null      object             \n",
      " 4   iucr                  5 non-null      object             \n",
      " 5   primary_type          5 non-null      object             \n",
      " 6   description           5 non-null      object             \n",
      " 7   location_description  5 non-null      object             \n",
      " 8   arrest                5 non-null      boolean            \n",
      " 9   domestic              5 non-null      boolean            \n",
      " 10  beat                  5 non-null      Int64              \n",
      " 11  district              5 non-null      Int64              \n",
      " 12  ward                  5 non-null      Int64              \n",
      " 13  community_area        5 non-null      Int64              \n",
      " 14  fbi_code              5 non-null      object             \n",
      " 15  x_coordinate          5 non-null      float64            \n",
      " 16  y_coordinate          5 non-null      float64            \n",
      " 17  year                  5 non-null      Int64              \n",
      " 18  updated_on            5 non-null      datetime64[ns, UTC]\n",
      " 19  latitude              5 non-null      float64            \n",
      " 20  longitude             5 non-null      float64            \n",
      " 21  location              5 non-null      object             \n",
      "dtypes: Int64(6), boolean(2), datetime64[ns, UTC](2), float64(4), object(8)\n",
      "memory usage: 978.0+ bytes\n"
     ]
    }
   ],
   "source": [
    "data.info()"
   ]
  },
  {
   "cell_type": "code",
   "execution_count": 18,
   "metadata": {},
   "outputs": [
    {
     "name": "stderr",
     "output_type": "stream",
     "text": [
      "C:\\Users\\apmle\\AppData\\Local\\Temp\\ipykernel_31656\\306902632.py:1: FutureWarning: The default value of numeric_only in DataFrame.corr is deprecated. In a future version, it will default to False. Select only valid columns or specify the value of numeric_only to silence this warning.\n",
      "  corr_= data.corr()\n"
     ]
    }
   ],
   "source": [
    "corr_= data.corr()"
   ]
  },
  {
   "cell_type": "code",
   "execution_count": 17,
   "metadata": {},
   "outputs": [],
   "source": [
    "import seaborn as sns\n",
    "%matplotlib inline"
   ]
  },
  {
   "cell_type": "code",
   "execution_count": 20,
   "metadata": {},
   "outputs": [
    {
     "data": {
      "text/plain": [
       "<Axes: >"
      ]
     },
     "execution_count": 20,
     "metadata": {},
     "output_type": "execute_result"
    },
    {
     "data": {
      "image/png": "[encoded data removed]",
      "text/plain": [
       "<Figure size 640x480 with 2 Axes>"
      ]
     },
     "metadata": {},
     "output_type": "display_data"
    }
   ],
   "source": [
    "# plot the heatmap\n",
    "sns.heatmap(corr_, cmap=\"Blues\", annot=True)"
   ]
  },
  {
   "cell_type": "code",
   "execution_count": null,
   "metadata": {},
   "outputs": [],
   "source": []
  },
  {
   "attachments": {},
   "cell_type": "markdown",
   "metadata": {},
   "source": []
  },
  {
   "cell_type": "code",
   "execution_count": null,
   "metadata": {},
   "outputs": [],
   "source": []
  }
 ],
 "metadata": {
  "kernelspec": {
   "display_name": "Python 3",
   "language": "python",
   "name": "python3"
  },
  "language_info": {
   "codemirror_mode": {
    "name": "ipython",
    "version": 3
   },
   "file_extension": ".py",
   "mimetype": "text/x-python",
   "name": "python",
   "nbconvert_exporter": "python",
   "pygments_lexer": "ipython3",
   "version": "3.10.11"
  },
  "orig_nbformat": 4
 },
 "nbformat": 4,
 "nbformat_minor": 2
}
