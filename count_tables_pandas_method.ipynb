{
 "cells": [
  {
   "cell_type": "code",
   "execution_count": 1,
   "metadata": {},
   "outputs": [],
   "source": [
    "import requests\n",
    "import sqlite3\n",
    "import pandas as pd\n",
    "\n",
    "connection = sqlite3.connect('movie_database.db')"
   ]
  },
  {
   "cell_type": "code",
   "execution_count": 2,
   "metadata": {},
   "outputs": [],
   "source": [
    "def consulta(query):\n",
    "    return pd.read_sql(query,connection)"
   ]
  },
  {
   "cell_type": "code",
   "execution_count": 12,
   "metadata": {},
   "outputs": [
    {
     "name": "stdout",
     "output_type": "stream",
     "text": [
      "        name\n",
      "0  directors\n",
      "1     genres\n",
      "2     movies\n",
      "3     actors\n",
      "4      roles\n"
     ]
    }
   ],
   "source": [
    "tot_tables = consulta(\"SELECT name FROM sqlite_master WHERE type='table'\") \n",
    "# returns a list of names of every table in your database\n",
    "print(tot_tables)"
   ]
  },
  {
   "cell_type": "code",
   "execution_count": null,
   "metadata": {},
   "outputs": [],
   "source": [
    "#Using SELECT name instead of SELECT * is more efficient for retrieving only the names of tables from the sqlite_master table.\n",
    "\n",
    "# The sqlite_master table is a system table in SQLite that contains information \n",
    "# about all objects in a database, including tables, indexes, views, and triggers.\n",
    "#  If you use SELECT * to retrieve all columns from the sqlite_master table, \n",
    "#  you will get a lot of additional information that you may not need, \n",
    "#  such as the SQL statement used to create each object.\n",
    "\n",
    "# By using SELECT name instead, you are only retrieving the name column, \n",
    "# which is the only column you need to count the number of tables in the database. \n",
    "# This reduces the amount of data that needs to be read from the database \n",
    "# and processed by the pandas library, and can improve performance.\n",
    "\n",
    "# Additionally, if you are only interested in tables and not other types of objects in the database, \n",
    "# using SELECT name allows you to filter the result set to only include tables,\n",
    "#  by adding the condition WHERE type='table' to the query."
   ]
  },
  {
   "cell_type": "code",
   "execution_count": 10,
   "metadata": {},
   "outputs": [],
   "source": [
    "num_tables = len(tot_tables)"
   ]
  },
  {
   "cell_type": "code",
   "execution_count": 11,
   "metadata": {},
   "outputs": [
    {
     "name": "stdout",
     "output_type": "stream",
     "text": [
      "Total tables in the database: 5\n"
     ]
    }
   ],
   "source": [
    "print(f'Total tables in the database: {num_tables}')"
   ]
  }
 ],
 "metadata": {
  "kernelspec": {
   "display_name": "Python 3",
   "language": "python",
   "name": "python3"
  },
  "language_info": {
   "codemirror_mode": {
    "name": "ipython",
    "version": 3
   },
   "file_extension": ".py",
   "mimetype": "text/x-python",
   "name": "python",
   "nbconvert_exporter": "python",
   "pygments_lexer": "ipython3",
   "version": "3.10.10"
  },
  "orig_nbformat": 4
 },
 "nbformat": 4,
 "nbformat_minor": 2
}
