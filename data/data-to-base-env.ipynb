{
 "cells": [
  {
   "cell_type": "code",
   "execution_count": 6,
   "metadata": {},
   "outputs": [
    {
     "name": "stdout",
     "output_type": "stream",
     "text": [
      "Requirement already satisfied: python-decouple in c:\\users\\apmle\\onedrive\\documents\\bootcamp\\sql-studies\\sql-data-studies\\.sql-ap\\lib\\site-packages (3.8)\n",
      "Note: you may need to restart the kernel to use updated packages.\n"
     ]
    },
    {
     "name": "stderr",
     "output_type": "stream",
     "text": [
      "\n",
      "[notice] A new release of pip available: 22.3.1 -> 23.0.1\n",
      "[notice] To update, run: python.exe -m pip install --upgrade pip\n"
     ]
    }
   ],
   "source": [
    "pip install python-decouple"
   ]
  },
  {
   "cell_type": "code",
   "execution_count": 7,
   "metadata": {},
   "outputs": [
    {
     "name": "stdout",
     "output_type": "stream",
     "text": [
      "Requirement already satisfied: pandas in c:\\users\\apmle\\onedrive\\documents\\bootcamp\\sql-studies\\sql-data-studies\\.sql-ap\\lib\\site-packages (2.0.0)\n",
      "Requirement already satisfied: numpy>=1.21.0 in c:\\users\\apmle\\onedrive\\documents\\bootcamp\\sql-studies\\sql-data-studies\\.sql-ap\\lib\\site-packages (from pandas) (1.24.2)\n",
      "Requirement already satisfied: python-dateutil>=2.8.2 in c:\\users\\apmle\\onedrive\\documents\\bootcamp\\sql-studies\\sql-data-studies\\.sql-ap\\lib\\site-packages (from pandas) (2.8.2)\n",
      "Requirement already satisfied: tzdata>=2022.1 in c:\\users\\apmle\\onedrive\\documents\\bootcamp\\sql-studies\\sql-data-studies\\.sql-ap\\lib\\site-packages (from pandas) (2023.3)\n",
      "Requirement already satisfied: pytz>=2020.1 in c:\\users\\apmle\\onedrive\\documents\\bootcamp\\sql-studies\\sql-data-studies\\.sql-ap\\lib\\site-packages (from pandas) (2023.3)\n",
      "Requirement already satisfied: six>=1.5 in c:\\users\\apmle\\onedrive\\documents\\bootcamp\\sql-studies\\sql-data-studies\\.sql-ap\\lib\\site-packages (from python-dateutil>=2.8.2->pandas) (1.16.0)\n",
      "Note: you may need to restart the kernel to use updated packages.\n"
     ]
    },
    {
     "name": "stderr",
     "output_type": "stream",
     "text": [
      "\n",
      "[notice] A new release of pip available: 22.3.1 -> 23.0.1\n",
      "[notice] To update, run: python.exe -m pip install --upgrade pip\n"
     ]
    }
   ],
   "source": [
    "pip install pandas"
   ]
  },
  {
   "cell_type": "code",
   "execution_count": 10,
   "metadata": {},
   "outputs": [
    {
     "name": "stdout",
     "output_type": "stream",
     "text": [
      "Requirement already satisfied: psycopg2 in c:\\users\\apmle\\onedrive\\documents\\bootcamp\\sql-studies\\sql-data-studies\\.sql-ap\\lib\\site-packages (2.9.6)\n",
      "Note: you may need to restart the kernel to use updated packages.\n"
     ]
    },
    {
     "name": "stderr",
     "output_type": "stream",
     "text": [
      "\n",
      "[notice] A new release of pip available: 22.3.1 -> 23.0.1\n",
      "[notice] To update, run: python.exe -m pip install --upgrade pip\n"
     ]
    }
   ],
   "source": [
    "pip install psycopg2"
   ]
  },
  {
   "cell_type": "code",
   "execution_count": 11,
   "metadata": {},
   "outputs": [
    {
     "name": "stdout",
     "output_type": "stream",
     "text": [
      "Requirement already satisfied: sqlalchemy in c:\\users\\apmle\\onedrive\\documents\\bootcamp\\sql-studies\\sql-data-studies\\.sql-ap\\lib\\site-packages (2.0.9)\n",
      "Requirement already satisfied: typing-extensions>=4.2.0 in c:\\users\\apmle\\onedrive\\documents\\bootcamp\\sql-studies\\sql-data-studies\\.sql-ap\\lib\\site-packages (from sqlalchemy) (4.5.0)\n",
      "Requirement already satisfied: greenlet!=0.4.17 in c:\\users\\apmle\\onedrive\\documents\\bootcamp\\sql-studies\\sql-data-studies\\.sql-ap\\lib\\site-packages (from sqlalchemy) (2.0.2)\n",
      "Note: you may need to restart the kernel to use updated packages.\n"
     ]
    },
    {
     "name": "stderr",
     "output_type": "stream",
     "text": [
      "\n",
      "[notice] A new release of pip available: 22.3.1 -> 23.0.1\n",
      "[notice] To update, run: python.exe -m pip install --upgrade pip\n"
     ]
    }
   ],
   "source": [
    "pip install sqlalchemy"
   ]
  },
  {
   "cell_type": "code",
   "execution_count": 13,
   "metadata": {},
   "outputs": [
    {
     "ename": "UndefinedValueError",
     "evalue": "HOST not found. Declare it as envvar or define a default value.",
     "output_type": "error",
     "traceback": [
      "\u001b[1;31m---------------------------------------------------------------------------\u001b[0m",
      "\u001b[1;31mUndefinedValueError\u001b[0m                       Traceback (most recent call last)",
      "Cell \u001b[1;32mIn[13], line 4\u001b[0m\n\u001b[0;32m      1\u001b[0m \u001b[39mfrom\u001b[39;00m \u001b[39msqlalchemy\u001b[39;00m \u001b[39mimport\u001b[39;00m create_engine\n\u001b[0;32m      2\u001b[0m \u001b[39mfrom\u001b[39;00m \u001b[39mdecouple\u001b[39;00m \u001b[39mimport\u001b[39;00m config \n\u001b[1;32m----> 4\u001b[0m HOST     \u001b[39m=\u001b[39m config(\u001b[39m'\u001b[39;49m\u001b[39mHOST\u001b[39;49m\u001b[39m'\u001b[39;49m)\n\u001b[0;32m      5\u001b[0m DATABASE \u001b[39m=\u001b[39m config(\u001b[39m'\u001b[39m\u001b[39mDATABASE\u001b[39m\u001b[39m'\u001b[39m)\n\u001b[0;32m      6\u001b[0m USER     \u001b[39m=\u001b[39m config(\u001b[39m'\u001b[39m\u001b[39mUSER\u001b[39m\u001b[39m'\u001b[39m)\n",
      "File \u001b[1;32mc:\\Users\\apmle\\OneDrive\\Documents\\Bootcamp\\SQL-STUDIES\\sql-data-studies\\.sql-ap\\lib\\site-packages\\decouple.py:248\u001b[0m, in \u001b[0;36mAutoConfig.__call__\u001b[1;34m(self, *args, **kwargs)\u001b[0m\n\u001b[0;32m    245\u001b[0m \u001b[39mif\u001b[39;00m \u001b[39mnot\u001b[39;00m \u001b[39mself\u001b[39m\u001b[39m.\u001b[39mconfig:\n\u001b[0;32m    246\u001b[0m     \u001b[39mself\u001b[39m\u001b[39m.\u001b[39m_load(\u001b[39mself\u001b[39m\u001b[39m.\u001b[39msearch_path \u001b[39mor\u001b[39;00m \u001b[39mself\u001b[39m\u001b[39m.\u001b[39m_caller_path())\n\u001b[1;32m--> 248\u001b[0m \u001b[39mreturn\u001b[39;00m \u001b[39mself\u001b[39m\u001b[39m.\u001b[39mconfig(\u001b[39m*\u001b[39margs, \u001b[39m*\u001b[39m\u001b[39m*\u001b[39mkwargs)\n",
      "File \u001b[1;32mc:\\Users\\apmle\\OneDrive\\Documents\\Bootcamp\\SQL-STUDIES\\sql-data-studies\\.sql-ap\\lib\\site-packages\\decouple.py:107\u001b[0m, in \u001b[0;36mConfig.__call__\u001b[1;34m(self, *args, **kwargs)\u001b[0m\n\u001b[0;32m    103\u001b[0m \u001b[39mdef\u001b[39;00m \u001b[39m__call__\u001b[39m(\u001b[39mself\u001b[39m, \u001b[39m*\u001b[39margs, \u001b[39m*\u001b[39m\u001b[39m*\u001b[39mkwargs):\n\u001b[0;32m    104\u001b[0m \u001b[39m    \u001b[39m\u001b[39m\"\"\"\u001b[39;00m\n\u001b[0;32m    105\u001b[0m \u001b[39m    Convenient shortcut to get.\u001b[39;00m\n\u001b[0;32m    106\u001b[0m \u001b[39m    \"\"\"\u001b[39;00m\n\u001b[1;32m--> 107\u001b[0m     \u001b[39mreturn\u001b[39;00m \u001b[39mself\u001b[39m\u001b[39m.\u001b[39mget(\u001b[39m*\u001b[39margs, \u001b[39m*\u001b[39m\u001b[39m*\u001b[39mkwargs)\n",
      "File \u001b[1;32mc:\\Users\\apmle\\OneDrive\\Documents\\Bootcamp\\SQL-STUDIES\\sql-data-studies\\.sql-ap\\lib\\site-packages\\decouple.py:92\u001b[0m, in \u001b[0;36mConfig.get\u001b[1;34m(self, option, default, cast)\u001b[0m\n\u001b[0;32m     90\u001b[0m \u001b[39melse\u001b[39;00m:\n\u001b[0;32m     91\u001b[0m     \u001b[39mif\u001b[39;00m \u001b[39misinstance\u001b[39m(default, Undefined):\n\u001b[1;32m---> 92\u001b[0m         \u001b[39mraise\u001b[39;00m UndefinedValueError(\u001b[39m'\u001b[39m\u001b[39m{}\u001b[39;00m\u001b[39m not found. Declare it as envvar or define a default value.\u001b[39m\u001b[39m'\u001b[39m\u001b[39m.\u001b[39mformat(option))\n\u001b[0;32m     94\u001b[0m     value \u001b[39m=\u001b[39m default\n\u001b[0;32m     96\u001b[0m \u001b[39mif\u001b[39;00m \u001b[39misinstance\u001b[39m(cast, Undefined):\n",
      "\u001b[1;31mUndefinedValueError\u001b[0m: HOST not found. Declare it as envvar or define a default value."
     ]
    }
   ],
   "source": [
    "from sqlalchemy import create_engine\n",
    "from decouple import config \n",
    "\n",
    "HOST     = config('HOST')\n",
    "DATABASE = config('DATABASE')\n",
    "USER     = config('USER')\n",
    "PASSWORD = config('PASSWORD')\n",
    "PORT     = config('PORT')\n",
    "\n",
    "string_conection = 'postgresql://{USER}:{PASSWORD}@{HOST}:{PORT}/{DATABASE}'\n"
   ]
  }
 ],
 "metadata": {
  "kernelspec": {
   "display_name": "Python 3",
   "language": "python",
   "name": "python3"
  },
  "language_info": {
   "codemirror_mode": {
    "name": "ipython",
    "version": 3
   },
   "file_extension": ".py",
   "mimetype": "text/x-python",
   "name": "python",
   "nbconvert_exporter": "python",
   "pygments_lexer": "ipython3",
   "version": "3.10.10"
  },
  "orig_nbformat": 4
 },
 "nbformat": 4,
 "nbformat_minor": 2
}
