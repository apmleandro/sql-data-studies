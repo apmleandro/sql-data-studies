{
 "cells": [
  {
   "cell_type": "code",
   "execution_count": 4,
   "metadata": {},
   "outputs": [],
   "source": [
    "import pandas as pd\n",
    "\n",
    "# Set the column names and data types for the \"directors\" table\n",
    "columns = [(\"Directors id's\", \"id\", \"integer\"),\n",
    "           (\"Directors names\", \"name\", \"TEXT\")]\n",
    "\n",
    "# Create a DataFrame with the column names and data types\n",
    "data = [[column[2] for column in columns]]\n",
    "df = pd.DataFrame(columns=[column[0] for column in columns], data=data)\n",
    "\n",
    "# Create a new header row with merged cells\n",
    "header = pd.MultiIndex.from_tuples([(columns[0][0], \"\", \"\"),\n",
    "                                     (columns[1][0], \"\", \"\")],\n",
    "                                    names=[\"Table\", \"Variable\", \"Variable Name\"])\n",
    "\n",
    "# Assign the header to the DataFrame\n",
    "df.columns = header\n",
    "\n",
    "# Save the DataFrame to a CSV file\n",
    "df.to_csv(\"example.csv\", index=False)"
   ]
  }
 ],
 "metadata": {
  "kernelspec": {
   "display_name": "Python 3",
   "language": "python",
   "name": "python3"
  },
  "language_info": {
   "codemirror_mode": {
    "name": "ipython",
    "version": 3
   },
   "file_extension": ".py",
   "mimetype": "text/x-python",
   "name": "python",
   "nbconvert_exporter": "python",
   "pygments_lexer": "ipython3",
   "version": "3.10.10"
  },
  "orig_nbformat": 4
 },
 "nbformat": 4,
 "nbformat_minor": 2
}
