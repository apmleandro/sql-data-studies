{
 "cells": [
  {
   "cell_type": "code",
   "execution_count": 33,
   "metadata": {},
   "outputs": [],
   "source": [
    "import sqlite3\n",
    "import pandas as pd"
   ]
  },
  {
   "cell_type": "code",
   "execution_count": 34,
   "metadata": {},
   "outputs": [],
   "source": [
    "connection = sqlite3.connect('movie_database.db')"
   ]
  },
  {
   "cell_type": "code",
   "execution_count": 35,
   "metadata": {},
   "outputs": [],
   "source": [
    "cursor = connection.cursor()"
   ]
  },
  {
   "cell_type": "code",
   "execution_count": 31,
   "metadata": {},
   "outputs": [
    {
     "name": "stdout",
     "output_type": "stream",
     "text": [
      "[('The Godfather', 1972), ('The Shawshank Redemption', 1994), (\"Schindler's List\", 1993), ('Raging Bull', 1980), (\"One Flew Over the Cuckoo's Nest\", 1975), ('Titanic', 1997), ('Forrest Gump', 1994), ('Star Wars', 1977), ('E.T. the Extra-Terrestrial', 1982), ('Amadeus', 1984), ('Apocalypse Now', 1979), ('Gladiator', 2000), ('The Dark Knight', 2008), ('Fight Club', 1999), ('Inception', 2010), ('The Matrix', 1999), ('Se7en', 1995), ('Terminator 2: Judgment Day', 1991), ('WALL·E', 2008), ('Toy Story 3', 2010), ('Reservoir Dogs', 1992), ('Braveheart', 1995), ('Heat', 1995), ('Good Will Hunting', 1997), ('Toy Story', 1995), ('Scarface', 1983), ('Gone Girl', 2014), ('The Wolf of Wall Street', 2013), ('Blade Runner', 1982), ('Gran Torino', 2008), ('The Big Lebowski', 1998), ('Trainspotting', 1996), ('A Beautiful Mind', 2001), ('Platoon', 1986), ('Sin City', 2005), ('The Avengers', 2012), ('Donnie Darko', 2001), ('Shutter Island', 2010), ('Twelve Monkeys', 1995), ('The Terminator', 1984), (\"The King's Speech\", 2010), ('The Truman Show', 1998), ('Jurassic Park', 1993)]\n",
      "                             Movies  Year\n",
      "0                     The Godfather  1972\n",
      "1          The Shawshank Redemption  1994\n",
      "2                  Schindler's List  1993\n",
      "3                       Raging Bull  1980\n",
      "4   One Flew Over the Cuckoo's Nest  1975\n",
      "5                           Titanic  1997\n",
      "6                      Forrest Gump  1994\n",
      "7                         Star Wars  1977\n",
      "8        E.T. the Extra-Terrestrial  1982\n",
      "9                           Amadeus  1984\n",
      "10                   Apocalypse Now  1979\n",
      "11                        Gladiator  2000\n",
      "12                  The Dark Knight  2008\n",
      "13                       Fight Club  1999\n",
      "14                        Inception  2010\n",
      "15                       The Matrix  1999\n",
      "16                            Se7en  1995\n",
      "17       Terminator 2: Judgment Day  1991\n",
      "18                           WALL·E  2008\n",
      "19                      Toy Story 3  2010\n",
      "20                   Reservoir Dogs  1992\n",
      "21                       Braveheart  1995\n",
      "22                             Heat  1995\n",
      "23                Good Will Hunting  1997\n",
      "24                        Toy Story  1995\n",
      "25                         Scarface  1983\n",
      "26                        Gone Girl  2014\n",
      "27          The Wolf of Wall Street  2013\n",
      "28                     Blade Runner  1982\n",
      "29                      Gran Torino  2008\n",
      "30                 The Big Lebowski  1998\n",
      "31                    Trainspotting  1996\n",
      "32                 A Beautiful Mind  2001\n",
      "33                          Platoon  1986\n",
      "34                         Sin City  2005\n",
      "35                     The Avengers  2012\n",
      "36                     Donnie Darko  2001\n",
      "37                   Shutter Island  2010\n",
      "38                   Twelve Monkeys  1995\n",
      "39                   The Terminator  1984\n",
      "40                The King's Speech  2010\n",
      "41                  The Truman Show  1998\n",
      "42                    Jurassic Park  1993\n"
     ]
    }
   ],
   "source": [
    "cursor.execute('SELECT title,year FROM movies')\n",
    "movie = []\n",
    "year = []\n",
    "all_movies = cursor.fetchall()\n",
    "print(all_movies)\n",
    "\n",
    "for items in all_movies:\n",
    "    movie.append(items[0])\n",
    "    year.append(items[1])\n",
    "\n",
    "dict = {\"Movies\" : movie , \"Year\": year }\n",
    "df = pd.DataFrame(dict)\n",
    "print(df)"
   ]
  },
  {
   "cell_type": "code",
   "execution_count": 32,
   "metadata": {},
   "outputs": [
    {
     "data": {
      "text/plain": [
       "[('Gone Girl', 2014)]"
      ]
     },
     "execution_count": 32,
     "metadata": {},
     "output_type": "execute_result"
    }
   ],
   "source": [
    "cursor.execute('''SELECT title,year \n",
    "               FROM movies\n",
    "               WHERE year = (SELECT MAX(year) FROM movies)''').fetchall()"
   ]
  },
  {
   "cell_type": "code",
   "execution_count": 33,
   "metadata": {},
   "outputs": [
    {
     "data": {
      "text/plain": [
       "[('The Godfather', 1972)]"
      ]
     },
     "execution_count": 33,
     "metadata": {},
     "output_type": "execute_result"
    }
   ],
   "source": [
    "cursor.execute('''SELECT title,year \n",
    "               FROM movies\n",
    "               WHERE year = (SELECT MIN(year) FROM movies)''').fetchall()\n"
   ]
  },
  {
   "cell_type": "code",
   "execution_count": 38,
   "metadata": {},
   "outputs": [
    {
     "data": {
      "text/plain": [
       "[('The Shawshank Redemption', 1994, 9.3),\n",
       " ('The Godfather', 1972, 9.2),\n",
       " ('The Dark Knight', 2008, 9.0),\n",
       " (\"Schindler's List\", 1993, 8.9),\n",
       " ('Fight Club', 1999, 8.9)]"
      ]
     },
     "execution_count": 38,
     "metadata": {},
     "output_type": "execute_result"
    }
   ],
   "source": [
    "cursor.execute('''SELECT title,year, rating \n",
    "               FROM movies\n",
    "               ORDER BY rating DESC\n",
    "               LIMIT 5''').fetchall()"
   ]
  },
  {
   "cell_type": "code",
   "execution_count": 39,
   "metadata": {},
   "outputs": [
    {
     "data": {
      "text/plain": [
       "[('Titanic', 1997, 7.7),\n",
       " ('E.T. the Extra-Terrestrial', 1982, 7.9),\n",
       " ('Jurassic Park', 1993, 8.0),\n",
       " ('Platoon', 1986, 8.1),\n",
       " ('Sin City', 2005, 8.1),\n",
       " ('Donnie Darko', 2001, 8.1),\n",
       " ('Shutter Island', 2010, 8.1),\n",
       " ('Twelve Monkeys', 1995, 8.1),\n",
       " ('The Terminator', 1984, 8.1),\n",
       " (\"The King's Speech\", 2010, 8.1)]"
      ]
     },
     "execution_count": 39,
     "metadata": {},
     "output_type": "execute_result"
    }
   ],
   "source": [
    "cursor.execute('''SELECT title,year, rating \n",
    "               FROM movies\n",
    "               ORDER BY rating ASC\n",
    "               LIMIT 10''').fetchall()"
   ]
  },
  {
   "cell_type": "code",
   "execution_count": 64,
   "metadata": {},
   "outputs": [
    {
     "data": {
      "text/plain": [
       "[('The Godfather', 1972, 'Drama'),\n",
       " ('The Shawshank Redemption', 1994, 'Drama'),\n",
       " (\"Schindler's List\", 1993, 'Drama'),\n",
       " ('Raging Bull', 1980, 'Drama'),\n",
       " (\"One Flew Over the Cuckoo's Nest\", 1975, 'Drama'),\n",
       " ('Titanic', 1997, 'Drama'),\n",
       " ('Forrest Gump', 1994, 'Drama'),\n",
       " ('Amadeus', 1984, 'Drama'),\n",
       " ('Se7en', 1995, 'Drama'),\n",
       " ('Good Will Hunting', 1997, 'Drama'),\n",
       " ('Scarface', 1983, 'Drama'),\n",
       " ('Gran Torino', 2008, 'Drama'),\n",
       " ('Trainspotting', 1996, 'Drama'),\n",
       " ('A Beautiful Mind', 2001, 'Drama'),\n",
       " ('Platoon', 1986, 'Drama'),\n",
       " ('Donnie Darko', 2001, 'Drama'),\n",
       " (\"The King's Speech\", 2010, 'Drama'),\n",
       " ('The Truman Show', 1998, 'Drama')]"
      ]
     },
     "execution_count": 64,
     "metadata": {},
     "output_type": "execute_result"
    }
   ],
   "source": [
    "cursor.execute('''SELECT\n",
    "                  m.title, \n",
    "                  m.year, \n",
    "                  g.name\n",
    "                  FROM movies m\n",
    "                  INNER JOIN genres as g  \n",
    "                  ON m.genre_id = g.id\n",
    "                  WHERE g.name = 'Drama'\n",
    "                  ;''' ).fetchall()"
   ]
  },
  {
   "cell_type": "code",
   "execution_count": 32,
   "metadata": {},
   "outputs": [
    {
     "data": {
      "text/plain": [
       "('Thriller', 5)"
      ]
     },
     "execution_count": 32,
     "metadata": {},
     "output_type": "execute_result"
    }
   ],
   "source": [
    "cursor.execute('''SELECT\n",
    "                g.name,\n",
    "                COUNT(g.name)\n",
    "                FROM movies m\n",
    "                INNER JOIN genres g\n",
    "                ON m.genre_id = g.id\n",
    "                WHERE g.name = \"Thriller\"; ''').fetchall()[0]"
   ]
  },
  {
   "cell_type": "code",
   "execution_count": 27,
   "metadata": {},
   "outputs": [
    {
     "data": {
      "text/plain": [
       "[('The Shawshank Redemption', 1994, 'Drama', 'Morgan Freeman'),\n",
       " ('Se7en', 1995, 'Drama', 'Morgan Freeman')]"
      ]
     },
     "execution_count": 27,
     "metadata": {},
     "output_type": "execute_result"
    }
   ],
   "source": [
    "cursor.execute('''SELECT\n",
    "                m.title,\n",
    "                m.year,\n",
    "                g.name,\n",
    "                a.name\n",
    "                FROM movies m\n",
    "                INNER JOIN genres g\n",
    "                ON m.genre_id = g.id\n",
    "                INNER JOIN roles r\n",
    "                ON m.id = r.movie_id\n",
    "                INNER JOIN actors a\n",
    "                ON r.actor_id = a.id\n",
    "                WHERE a.name = \"Morgan Freeman\";''').fetchall()"
   ]
  },
  {
   "cell_type": "code",
   "execution_count": 37,
   "metadata": {},
   "outputs": [
    {
     "data": {
      "text/plain": [
       "[(5,)]"
      ]
     },
     "execution_count": 37,
     "metadata": {},
     "output_type": "execute_result"
    }
   ],
   "source": [
    "cursor.execute('''SELECT id FROM Actors WHERE name=\"Morgan Freeman\"''').fetchall()"
   ]
  },
  {
   "cell_type": "code",
   "execution_count": null,
   "metadata": {},
   "outputs": [],
   "source": [
    "cursor.execute('''SELECT id FROM Actors WHERE name=\"Morgan Freeman\"''').fetchall()"
   ]
  }
 ],
 "metadata": {
  "kernelspec": {
   "display_name": "Python 3",
   "language": "python",
   "name": "python3"
  },
  "language_info": {
   "codemirror_mode": {
    "name": "ipython",
    "version": 3
   },
   "file_extension": ".py",
   "mimetype": "text/x-python",
   "name": "python",
   "nbconvert_exporter": "python",
   "pygments_lexer": "ipython3",
   "version": "3.10.10"
  },
  "orig_nbformat": 4
 },
 "nbformat": 4,
 "nbformat_minor": 2
}
